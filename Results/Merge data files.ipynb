{
 "cells": [
  {
   "cell_type": "code",
   "execution_count": 1,
   "id": "aa9e322c",
   "metadata": {},
   "outputs": [],
   "source": [
    "import pandas as pd\n",
    "import glob"
   ]
  },
  {
   "cell_type": "code",
   "execution_count": 2,
   "id": "45563bc4",
   "metadata": {},
   "outputs": [],
   "source": [
    "for dimension in [\"Grammaticality\", \"Coherence\", \"Repetition\"]:\n",
    "    files = glob.glob(f\"./Responses/{dimension}/*.xlsx\")\n",
    "    dataframes = []\n",
    "    for file in files:\n",
    "        df = pd.read_excel(file)\n",
    "        dataframes.append(df)\n",
    "    combined = pd.concat(dataframes)\n",
    "    combined.to_excel(f\"./Responses/Combined/{dimension}.xlsx\")"
   ]
  }
 ],
 "metadata": {
  "kernelspec": {
   "display_name": "Python 3 (ipykernel)",
   "language": "python",
   "name": "python3"
  },
  "language_info": {
   "codemirror_mode": {
    "name": "ipython",
    "version": 3
   },
   "file_extension": ".py",
   "mimetype": "text/x-python",
   "name": "python",
   "nbconvert_exporter": "python",
   "pygments_lexer": "ipython3",
   "version": "3.9.12"
  }
 },
 "nbformat": 4,
 "nbformat_minor": 5
}
