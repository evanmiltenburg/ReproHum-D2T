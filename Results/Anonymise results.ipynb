{
 "cells": [
  {
   "cell_type": "code",
   "execution_count": 1,
   "id": "a75a572a",
   "metadata": {},
   "outputs": [],
   "source": [
    "import pandas as pd\n",
    "import glob"
   ]
  },
  {
   "cell_type": "code",
   "execution_count": 2,
   "id": "7599a26e",
   "metadata": {},
   "outputs": [],
   "source": [
    "files = glob.glob(\"./Responses/*/*.csv\")\n",
    "\n",
    "# Collect all worker IDs.\n",
    "worker_ids = set()\n",
    "for path in files:\n",
    "    df = pd.read_csv(path)\n",
    "    worker_ids.update(df['WorkerId'])\n",
    "\n",
    "# Create reproducible index of worker IDs. \n",
    "# These will always be the same with the same original files.\n",
    "worker_dict = {worker_id: \"worker_\" + str(i).zfill(3) for i, worker_id in enumerate(sorted(worker_ids))}"
   ]
  },
  {
   "cell_type": "code",
   "execution_count": 3,
   "id": "19c17ab1",
   "metadata": {},
   "outputs": [],
   "source": [
    "# Overwrite original files, anonymizing the results.\n",
    "for path in files:\n",
    "    df = pd.read_csv(path)\n",
    "    df['WorkerId'] = df['WorkerId'].apply(lambda value: worker_dict[value])\n",
    "    path = path[:-4] + \".xlsx\"\n",
    "    df.to_excel(path, index=False)"
   ]
  }
 ],
 "metadata": {
  "kernelspec": {
   "display_name": "Python 3 (ipykernel)",
   "language": "python",
   "name": "python3"
  },
  "language_info": {
   "codemirror_mode": {
    "name": "ipython",
    "version": 3
   },
   "file_extension": ".py",
   "mimetype": "text/x-python",
   "name": "python",
   "nbconvert_exporter": "python",
   "pygments_lexer": "ipython3",
   "version": "3.9.12"
  }
 },
 "nbformat": 4,
 "nbformat_minor": 5
}
